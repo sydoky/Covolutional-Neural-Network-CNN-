{
  "nbformat": 4,
  "nbformat_minor": 0,
  "metadata": {
    "colab": {
      "name": "Covolutional Neural Network(CNN).ipynb",
      "provenance": [],
      "authorship_tag": "ABX9TyMTzN63XzOlx11WuiPYroyD",
      "include_colab_link": true
    },
    "kernelspec": {
      "name": "python3",
      "display_name": "Python 3"
    },
    "language_info": {
      "name": "python"
    }
  },
  "cells": [
    {
      "cell_type": "markdown",
      "metadata": {
        "id": "view-in-github",
        "colab_type": "text"
      },
      "source": [
        "<a href=\"https://colab.research.google.com/github/sydoky/Covolutional-Neural-Network-CNN-/blob/main/Covolutional_Neural_Network(CNN).ipynb\" target=\"_parent\"><img src=\"https://colab.research.google.com/assets/colab-badge.svg\" alt=\"Open In Colab\"/></a>"
      ]
    },
    {
      "cell_type": "code",
      "metadata": {
        "id": "WG-Nh1nbMLKN"
      },
      "source": [
        "import numpy as np\n",
        "import pandas as pd\n",
        "%matplotlib inline\n",
        "import matplotlib as mpl\n",
        "import matplotlib.pyplot as plt"
      ],
      "execution_count": 1,
      "outputs": []
    },
    {
      "cell_type": "code",
      "metadata": {
        "id": "sp0KRpAKMonZ"
      },
      "source": [
        "import tensorflow as tf\n",
        "from tensorflow import keras"
      ],
      "execution_count": 2,
      "outputs": []
    },
    {
      "cell_type": "code",
      "metadata": {
        "colab": {
          "base_uri": "https://localhost:8080/"
        },
        "id": "bDkYnxw2M5dw",
        "outputId": "7b1fdaa3-8b71-46ea-cf58-ab8d2b919264"
      },
      "source": [
        "fashion_mnist=keras.datasets.fashion_mnist\n",
        "(X_train_full, y_train_full),(X_test, y_test)=fashion_mnist.load_data()"
      ],
      "execution_count": 3,
      "outputs": [
        {
          "output_type": "stream",
          "name": "stdout",
          "text": [
            "Downloading data from https://storage.googleapis.com/tensorflow/tf-keras-datasets/train-labels-idx1-ubyte.gz\n",
            "32768/29515 [=================================] - 0s 1us/step\n",
            "40960/29515 [=========================================] - 0s 1us/step\n",
            "Downloading data from https://storage.googleapis.com/tensorflow/tf-keras-datasets/train-images-idx3-ubyte.gz\n",
            "26427392/26421880 [==============================] - 0s 0us/step\n",
            "26435584/26421880 [==============================] - 0s 0us/step\n",
            "Downloading data from https://storage.googleapis.com/tensorflow/tf-keras-datasets/t10k-labels-idx1-ubyte.gz\n",
            "16384/5148 [===============================================================================================] - 0s 0us/step\n",
            "Downloading data from https://storage.googleapis.com/tensorflow/tf-keras-datasets/t10k-images-idx3-ubyte.gz\n",
            "4423680/4422102 [==============================] - 0s 0us/step\n",
            "4431872/4422102 [==============================] - 0s 0us/step\n"
          ]
        }
      ]
    },
    {
      "cell_type": "code",
      "metadata": {
        "colab": {
          "base_uri": "https://localhost:8080/"
        },
        "id": "rEhseO9-NK3g",
        "outputId": "11cb3286-69bc-4cd8-f054-7617bc4667ff"
      },
      "source": [
        "fashion_mnist"
      ],
      "execution_count": 4,
      "outputs": [
        {
          "output_type": "execute_result",
          "data": {
            "text/plain": [
              "<module 'keras.api._v2.keras.datasets.fashion_mnist' from '/usr/local/lib/python3.7/dist-packages/keras/api/_v2/keras/datasets/fashion_mnist/__init__.py'>"
            ]
          },
          "metadata": {},
          "execution_count": 4
        }
      ]
    },
    {
      "cell_type": "code",
      "metadata": {
        "id": "exj15v41NMr0"
      },
      "source": [
        "class_names=[\"T-shirt/top\", \"Trouser\", \"Pullover\", \"Dress\", \"Coat\", \"Sandal\",\"Shirt\", \"Sneaker\", \"Bag\", \"Angle\"]"
      ],
      "execution_count": 5,
      "outputs": []
    },
    {
      "cell_type": "markdown",
      "metadata": {
        "id": "iQNVNLpkNp1g"
      },
      "source": [
        "# **Data Reshape**"
      ]
    },
    {
      "cell_type": "code",
      "metadata": {
        "id": "Jo-_tQWXNr94"
      },
      "source": [
        "X_train_full=X_train_full.reshape(60000, 28, 28,1)\n",
        "X_test=X_test.reshape(10000, 28, 28, 1)"
      ],
      "execution_count": 6,
      "outputs": []
    },
    {
      "cell_type": "markdown",
      "metadata": {
        "id": "gFHh7bT3N5tc"
      },
      "source": [
        "# **Data Normalization**"
      ]
    },
    {
      "cell_type": "code",
      "metadata": {
        "id": "4hG94HyVN8T0"
      },
      "source": [
        "X_train_n=X_train_full/255\n",
        "X_test_n=X_test/255"
      ],
      "execution_count": 7,
      "outputs": []
    },
    {
      "cell_type": "code",
      "metadata": {
        "id": "3P_XLyptOFm3"
      },
      "source": [
        "X_valid, X_train=X_train_n[:5000], X_train_n[5000:]\n",
        "y_valid, y_train=y_train_full[:5000],y_train_full[5000:]\n",
        "X_test = X_test_n"
      ],
      "execution_count": 8,
      "outputs": []
    },
    {
      "cell_type": "code",
      "metadata": {
        "id": "hUi_1ryDOgbT"
      },
      "source": [
        "np.random.seed(42)\n",
        "tf.random.set_seed(42)"
      ],
      "execution_count": 9,
      "outputs": []
    },
    {
      "cell_type": "code",
      "metadata": {
        "id": "CpmlpEdRO5kz"
      },
      "source": [
        "model=keras.models.Sequential()\n",
        "model.add(keras.layers.Conv2D(filters=32, kernel_size=(3,3),strides=1, padding=\"valid\", activation=\"relu\", input_shape=(28,28,1)))\n",
        "model.add(keras.layers.MaxPooling2D((2,2)))\n",
        "model.add(keras.layers.Flatten())\n",
        "model.add(keras.layers.Dense(300, activation=\"relu\"))\n",
        "model.add(keras.layers.Dense(100, activation=\"relu\"))\n",
        "model.add(keras.layers.Dense(10, activation=\"softmax\"))\n"
      ],
      "execution_count": 10,
      "outputs": []
    },
    {
      "cell_type": "code",
      "metadata": {
        "colab": {
          "base_uri": "https://localhost:8080/"
        },
        "id": "9hquUPqcQgx9",
        "outputId": "dc0652ba-ae3f-4549-8805-55d272ad0dee"
      },
      "source": [
        "model.summary()"
      ],
      "execution_count": 11,
      "outputs": [
        {
          "output_type": "stream",
          "name": "stdout",
          "text": [
            "Model: \"sequential\"\n",
            "_________________________________________________________________\n",
            " Layer (type)                Output Shape              Param #   \n",
            "=================================================================\n",
            " conv2d (Conv2D)             (None, 26, 26, 32)        320       \n",
            "                                                                 \n",
            " max_pooling2d (MaxPooling2D  (None, 13, 13, 32)       0         \n",
            " )                                                               \n",
            "                                                                 \n",
            " flatten (Flatten)           (None, 5408)              0         \n",
            "                                                                 \n",
            " dense (Dense)               (None, 300)               1622700   \n",
            "                                                                 \n",
            " dense_1 (Dense)             (None, 100)               30100     \n",
            "                                                                 \n",
            " dense_2 (Dense)             (None, 10)                1010      \n",
            "                                                                 \n",
            "=================================================================\n",
            "Total params: 1,654,130\n",
            "Trainable params: 1,654,130\n",
            "Non-trainable params: 0\n",
            "_________________________________________________________________\n"
          ]
        }
      ]
    },
    {
      "cell_type": "code",
      "metadata": {
        "id": "iebmtLjhTi6j"
      },
      "source": [
        "model.compile(loss=\"sparse_categorical_crossentropy\",\n",
        "              optimizer=\"sgd\",\n",
        "              metrics=[\"accuracy\"])"
      ],
      "execution_count": 12,
      "outputs": []
    },
    {
      "cell_type": "code",
      "metadata": {
        "colab": {
          "base_uri": "https://localhost:8080/"
        },
        "id": "Spa2lVF1T0T-",
        "outputId": "211a29a4-f2a2-48a6-e770-d68298be054a"
      },
      "source": [
        "model_history=model.fit(X_train,y_train,epochs=64, batch_size=64, validation_data=(X_valid, y_valid))"
      ],
      "execution_count": 13,
      "outputs": [
        {
          "output_type": "stream",
          "name": "stdout",
          "text": [
            "Epoch 1/64\n",
            "860/860 [==============================] - 37s 42ms/step - loss: 0.8766 - accuracy: 0.6988 - val_loss: 0.7540 - val_accuracy: 0.7332\n",
            "Epoch 2/64\n",
            "860/860 [==============================] - 36s 42ms/step - loss: 0.5386 - accuracy: 0.8046 - val_loss: 0.4903 - val_accuracy: 0.8212\n",
            "Epoch 3/64\n",
            "860/860 [==============================] - 37s 42ms/step - loss: 0.4810 - accuracy: 0.8261 - val_loss: 0.9134 - val_accuracy: 0.7126\n",
            "Epoch 4/64\n",
            "860/860 [==============================] - 37s 43ms/step - loss: 0.4440 - accuracy: 0.8413 - val_loss: 0.4157 - val_accuracy: 0.8566\n",
            "Epoch 5/64\n",
            "860/860 [==============================] - 37s 43ms/step - loss: 0.4201 - accuracy: 0.8500 - val_loss: 0.4358 - val_accuracy: 0.8478\n",
            "Epoch 6/64\n",
            "860/860 [==============================] - 37s 43ms/step - loss: 0.3956 - accuracy: 0.8582 - val_loss: 0.3753 - val_accuracy: 0.8712\n",
            "Epoch 7/64\n",
            "860/860 [==============================] - 38s 44ms/step - loss: 0.3783 - accuracy: 0.8656 - val_loss: 0.4065 - val_accuracy: 0.8558\n",
            "Epoch 8/64\n",
            "860/860 [==============================] - 37s 43ms/step - loss: 0.3627 - accuracy: 0.8693 - val_loss: 0.5254 - val_accuracy: 0.8050\n",
            "Epoch 9/64\n",
            "860/860 [==============================] - 37s 43ms/step - loss: 0.3489 - accuracy: 0.8741 - val_loss: 0.3730 - val_accuracy: 0.8668\n",
            "Epoch 10/64\n",
            "860/860 [==============================] - 37s 43ms/step - loss: 0.3366 - accuracy: 0.8785 - val_loss: 0.3964 - val_accuracy: 0.8530\n",
            "Epoch 11/64\n",
            "860/860 [==============================] - 37s 43ms/step - loss: 0.3247 - accuracy: 0.8817 - val_loss: 0.3457 - val_accuracy: 0.8750\n",
            "Epoch 12/64\n",
            "860/860 [==============================] - 37s 43ms/step - loss: 0.3132 - accuracy: 0.8869 - val_loss: 0.3225 - val_accuracy: 0.8872\n",
            "Epoch 13/64\n",
            "860/860 [==============================] - 37s 43ms/step - loss: 0.3059 - accuracy: 0.8892 - val_loss: 0.3297 - val_accuracy: 0.8876\n",
            "Epoch 14/64\n",
            "860/860 [==============================] - 37s 43ms/step - loss: 0.2973 - accuracy: 0.8913 - val_loss: 0.3871 - val_accuracy: 0.8584\n",
            "Epoch 15/64\n",
            "860/860 [==============================] - 37s 43ms/step - loss: 0.2893 - accuracy: 0.8950 - val_loss: 0.3827 - val_accuracy: 0.8638\n",
            "Epoch 16/64\n",
            "860/860 [==============================] - 37s 43ms/step - loss: 0.2828 - accuracy: 0.8972 - val_loss: 0.2945 - val_accuracy: 0.8928\n",
            "Epoch 17/64\n",
            "860/860 [==============================] - 37s 43ms/step - loss: 0.2753 - accuracy: 0.9000 - val_loss: 0.4068 - val_accuracy: 0.8596\n",
            "Epoch 18/64\n",
            "860/860 [==============================] - 37s 43ms/step - loss: 0.2697 - accuracy: 0.9010 - val_loss: 0.3461 - val_accuracy: 0.8754\n",
            "Epoch 19/64\n",
            "860/860 [==============================] - 37s 43ms/step - loss: 0.2637 - accuracy: 0.9035 - val_loss: 0.3074 - val_accuracy: 0.8880\n",
            "Epoch 20/64\n",
            "860/860 [==============================] - 37s 43ms/step - loss: 0.2583 - accuracy: 0.9050 - val_loss: 0.3178 - val_accuracy: 0.8856\n",
            "Epoch 21/64\n",
            "860/860 [==============================] - 37s 43ms/step - loss: 0.2520 - accuracy: 0.9084 - val_loss: 0.2833 - val_accuracy: 0.9004\n",
            "Epoch 22/64\n",
            "860/860 [==============================] - 37s 43ms/step - loss: 0.2465 - accuracy: 0.9098 - val_loss: 0.2853 - val_accuracy: 0.8966\n",
            "Epoch 23/64\n",
            "860/860 [==============================] - 37s 43ms/step - loss: 0.2414 - accuracy: 0.9108 - val_loss: 0.2816 - val_accuracy: 0.9032\n",
            "Epoch 24/64\n",
            "860/860 [==============================] - 37s 43ms/step - loss: 0.2366 - accuracy: 0.9130 - val_loss: 0.2987 - val_accuracy: 0.8932\n",
            "Epoch 25/64\n",
            "860/860 [==============================] - 37s 43ms/step - loss: 0.2319 - accuracy: 0.9154 - val_loss: 0.2918 - val_accuracy: 0.8956\n",
            "Epoch 26/64\n",
            "860/860 [==============================] - 37s 43ms/step - loss: 0.2284 - accuracy: 0.9159 - val_loss: 0.2764 - val_accuracy: 0.9034\n",
            "Epoch 27/64\n",
            "860/860 [==============================] - 37s 43ms/step - loss: 0.2242 - accuracy: 0.9181 - val_loss: 0.2833 - val_accuracy: 0.8948\n",
            "Epoch 28/64\n",
            "860/860 [==============================] - 37s 43ms/step - loss: 0.2195 - accuracy: 0.9190 - val_loss: 0.3121 - val_accuracy: 0.8894\n",
            "Epoch 29/64\n",
            "860/860 [==============================] - 37s 43ms/step - loss: 0.2144 - accuracy: 0.9211 - val_loss: 0.2708 - val_accuracy: 0.9022\n",
            "Epoch 30/64\n",
            "860/860 [==============================] - 37s 43ms/step - loss: 0.2118 - accuracy: 0.9217 - val_loss: 0.2734 - val_accuracy: 0.9024\n",
            "Epoch 31/64\n",
            "860/860 [==============================] - 37s 43ms/step - loss: 0.2065 - accuracy: 0.9250 - val_loss: 0.2650 - val_accuracy: 0.9036\n",
            "Epoch 32/64\n",
            "860/860 [==============================] - 37s 43ms/step - loss: 0.2037 - accuracy: 0.9254 - val_loss: 0.2827 - val_accuracy: 0.8986\n",
            "Epoch 33/64\n",
            "860/860 [==============================] - 37s 42ms/step - loss: 0.2000 - accuracy: 0.9267 - val_loss: 0.2814 - val_accuracy: 0.8998\n",
            "Epoch 34/64\n",
            "860/860 [==============================] - 36s 42ms/step - loss: 0.1946 - accuracy: 0.9291 - val_loss: 0.2731 - val_accuracy: 0.9020\n",
            "Epoch 35/64\n",
            "860/860 [==============================] - 37s 43ms/step - loss: 0.1910 - accuracy: 0.9314 - val_loss: 0.2557 - val_accuracy: 0.9088\n",
            "Epoch 36/64\n",
            "860/860 [==============================] - 36s 42ms/step - loss: 0.1880 - accuracy: 0.9312 - val_loss: 0.2790 - val_accuracy: 0.9032\n",
            "Epoch 37/64\n",
            "860/860 [==============================] - 37s 43ms/step - loss: 0.1840 - accuracy: 0.9329 - val_loss: 0.2545 - val_accuracy: 0.9076\n",
            "Epoch 38/64\n",
            "860/860 [==============================] - 37s 43ms/step - loss: 0.1803 - accuracy: 0.9345 - val_loss: 0.2496 - val_accuracy: 0.9120\n",
            "Epoch 39/64\n",
            "860/860 [==============================] - 37s 43ms/step - loss: 0.1774 - accuracy: 0.9350 - val_loss: 0.2561 - val_accuracy: 0.9088\n",
            "Epoch 40/64\n",
            "860/860 [==============================] - 37s 43ms/step - loss: 0.1742 - accuracy: 0.9365 - val_loss: 0.2527 - val_accuracy: 0.9072\n",
            "Epoch 41/64\n",
            "860/860 [==============================] - 37s 43ms/step - loss: 0.1696 - accuracy: 0.9391 - val_loss: 0.2489 - val_accuracy: 0.9100\n",
            "Epoch 42/64\n",
            "860/860 [==============================] - 37s 43ms/step - loss: 0.1662 - accuracy: 0.9403 - val_loss: 0.2501 - val_accuracy: 0.9094\n",
            "Epoch 43/64\n",
            "860/860 [==============================] - 37s 43ms/step - loss: 0.1626 - accuracy: 0.9416 - val_loss: 0.3569 - val_accuracy: 0.8688\n",
            "Epoch 44/64\n",
            "860/860 [==============================] - 37s 43ms/step - loss: 0.1594 - accuracy: 0.9424 - val_loss: 0.2826 - val_accuracy: 0.8976\n",
            "Epoch 45/64\n",
            "860/860 [==============================] - 37s 43ms/step - loss: 0.1556 - accuracy: 0.9450 - val_loss: 0.2558 - val_accuracy: 0.9090\n",
            "Epoch 46/64\n",
            "860/860 [==============================] - 37s 43ms/step - loss: 0.1532 - accuracy: 0.9449 - val_loss: 0.2677 - val_accuracy: 0.9018\n",
            "Epoch 47/64\n",
            "860/860 [==============================] - 37s 43ms/step - loss: 0.1487 - accuracy: 0.9475 - val_loss: 0.2526 - val_accuracy: 0.9096\n",
            "Epoch 48/64\n",
            "860/860 [==============================] - 37s 43ms/step - loss: 0.1463 - accuracy: 0.9480 - val_loss: 0.2728 - val_accuracy: 0.9060\n",
            "Epoch 49/64\n",
            "860/860 [==============================] - 37s 43ms/step - loss: 0.1433 - accuracy: 0.9492 - val_loss: 0.2542 - val_accuracy: 0.9072\n",
            "Epoch 50/64\n",
            "860/860 [==============================] - 37s 43ms/step - loss: 0.1401 - accuracy: 0.9489 - val_loss: 0.2602 - val_accuracy: 0.9096\n",
            "Epoch 51/64\n",
            "860/860 [==============================] - 37s 43ms/step - loss: 0.1364 - accuracy: 0.9521 - val_loss: 0.2617 - val_accuracy: 0.9094\n",
            "Epoch 52/64\n",
            "860/860 [==============================] - 37s 43ms/step - loss: 0.1338 - accuracy: 0.9519 - val_loss: 0.2943 - val_accuracy: 0.8940\n",
            "Epoch 53/64\n",
            "860/860 [==============================] - 37s 43ms/step - loss: 0.1315 - accuracy: 0.9540 - val_loss: 0.2753 - val_accuracy: 0.9024\n",
            "Epoch 54/64\n",
            "860/860 [==============================] - 37s 43ms/step - loss: 0.1266 - accuracy: 0.9557 - val_loss: 0.2813 - val_accuracy: 0.9054\n",
            "Epoch 55/64\n",
            "860/860 [==============================] - 37s 43ms/step - loss: 0.1238 - accuracy: 0.9559 - val_loss: 0.2663 - val_accuracy: 0.9088\n",
            "Epoch 56/64\n",
            "860/860 [==============================] - 37s 43ms/step - loss: 0.1205 - accuracy: 0.9576 - val_loss: 0.2876 - val_accuracy: 0.9024\n",
            "Epoch 57/64\n",
            "860/860 [==============================] - 37s 43ms/step - loss: 0.1169 - accuracy: 0.9588 - val_loss: 0.2811 - val_accuracy: 0.9058\n",
            "Epoch 58/64\n",
            "860/860 [==============================] - 37s 43ms/step - loss: 0.1142 - accuracy: 0.9604 - val_loss: 0.2570 - val_accuracy: 0.9142\n",
            "Epoch 59/64\n",
            "860/860 [==============================] - 37s 43ms/step - loss: 0.1115 - accuracy: 0.9615 - val_loss: 0.2584 - val_accuracy: 0.9122\n",
            "Epoch 60/64\n",
            "860/860 [==============================] - 37s 43ms/step - loss: 0.1085 - accuracy: 0.9623 - val_loss: 0.2617 - val_accuracy: 0.9152\n",
            "Epoch 61/64\n",
            "860/860 [==============================] - 37s 43ms/step - loss: 0.1063 - accuracy: 0.9633 - val_loss: 0.2601 - val_accuracy: 0.9128\n",
            "Epoch 62/64\n",
            "860/860 [==============================] - 37s 43ms/step - loss: 0.1031 - accuracy: 0.9644 - val_loss: 0.2999 - val_accuracy: 0.9060\n",
            "Epoch 63/64\n",
            "860/860 [==============================] - 37s 43ms/step - loss: 0.1008 - accuracy: 0.9659 - val_loss: 0.5299 - val_accuracy: 0.8368\n",
            "Epoch 64/64\n",
            "860/860 [==============================] - 37s 43ms/step - loss: 0.0975 - accuracy: 0.9662 - val_loss: 0.2566 - val_accuracy: 0.9164\n"
          ]
        }
      ]
    },
    {
      "cell_type": "code",
      "source": [
        "import pandas as pd\n",
        "pd.DataFrame(model_history.history).plot(figsize=(8,5))\n",
        "plt.grid(True)\n",
        "plt.gca().set_ylim(0,1)\n",
        "plt.show()"
      ],
      "metadata": {
        "colab": {
          "base_uri": "https://localhost:8080/",
          "height": 324
        },
        "id": "tlcMvD9TFTKl",
        "outputId": "2cc9e838-4db2-433a-9ad0-5b4f1b042dfa"
      },
      "execution_count": 15,
      "outputs": [
        {
          "output_type": "display_data",
          "data": {
            "image/png": "[encoded data removed]",
            "text/plain": [
              "<Figure size 576x360 with 1 Axes>"
            ]
          },
          "metadata": {
            "needs_background": "light"
          }
        }
      ]
    },
    {
      "cell_type": "code",
      "source": [
        "ev=model.evaluate(X_test_n,y_test)"
      ],
      "metadata": {
        "colab": {
          "base_uri": "https://localhost:8080/"
        },
        "id": "wB_-iw_nHzbD",
        "outputId": "bf3e8d40-13ab-498b-b4f7-d99a01069ed6"
      },
      "execution_count": 16,
      "outputs": [
        {
          "output_type": "stream",
          "name": "stdout",
          "text": [
            "313/313 [==============================] - 3s 9ms/step - loss: 0.2669 - accuracy: 0.9155\n"
          ]
        }
      ]
    },
    {
      "cell_type": "code",
      "source": [
        "X_new=X_test[:3]"
      ],
      "metadata": {
        "id": "R1uLYOQvH90D"
      },
      "execution_count": 21,
      "outputs": []
    },
    {
      "cell_type": "code",
      "source": [
        "y_pred=(model.predict(X_test) > 0.5).astype(\"int32\")\n"
      ],
      "metadata": {
        "id": "IXpGzdAbICeG"
      },
      "execution_count": 24,
      "outputs": []
    },
    {
      "cell_type": "code",
      "source": [
        "y_pred"
      ],
      "metadata": {
        "colab": {
          "base_uri": "https://localhost:8080/"
        },
        "id": "ZtK_mA1cJcEO",
        "outputId": "d5fb6ac1-8da9-4084-c9ca-7d321defafe4"
      },
      "execution_count": 25,
      "outputs": [
        {
          "output_type": "execute_result",
          "data": {
            "text/plain": [
              "array([[0, 0, 0, ..., 0, 0, 1],\n",
              "       [0, 0, 1, ..., 0, 0, 0],\n",
              "       [0, 1, 0, ..., 0, 0, 0],\n",
              "       ...,\n",
              "       [0, 0, 0, ..., 0, 1, 0],\n",
              "       [0, 1, 0, ..., 0, 0, 0],\n",
              "       [0, 0, 0, ..., 0, 0, 0]], dtype=int32)"
            ]
          },
          "metadata": {},
          "execution_count": 25
        }
      ]
    },
    {
      "cell_type": "code",
      "source": [
        "X_test"
      ],
      "metadata": {
        "colab": {
          "base_uri": "https://localhost:8080/"
        },
        "id": "hwzIRUIRLPlr",
        "outputId": "68e3b62f-663f-4f18-b0df-c1ce32dc5314"
      },
      "execution_count": 27,
      "outputs": [
        {
          "output_type": "execute_result",
          "data": {
            "text/plain": [
              "array([[[[0.],\n",
              "         [0.],\n",
              "         [0.],\n",
              "         ...,\n",
              "         [0.],\n",
              "         [0.],\n",
              "         [0.]],\n",
              "\n",
              "        [[0.],\n",
              "         [0.],\n",
              "         [0.],\n",
              "         ...,\n",
              "         [0.],\n",
              "         [0.],\n",
              "         [0.]],\n",
              "\n",
              "        [[0.],\n",
              "         [0.],\n",
              "         [0.],\n",
              "         ...,\n",
              "         [0.],\n",
              "         [0.],\n",
              "         [0.]],\n",
              "\n",
              "        ...,\n",
              "\n",
              "        [[0.],\n",
              "         [0.],\n",
              "         [0.],\n",
              "         ...,\n",
              "         [0.],\n",
              "         [0.],\n",
              "         [0.]],\n",
              "\n",
              "        [[0.],\n",
              "         [0.],\n",
              "         [0.],\n",
              "         ...,\n",
              "         [0.],\n",
              "         [0.],\n",
              "         [0.]],\n",
              "\n",
              "        [[0.],\n",
              "         [0.],\n",
              "         [0.],\n",
              "         ...,\n",
              "         [0.],\n",
              "         [0.],\n",
              "         [0.]]],\n",
              "\n",
              "\n",
              "       [[[0.],\n",
              "         [0.],\n",
              "         [0.],\n",
              "         ...,\n",
              "         [0.],\n",
              "         [0.],\n",
              "         [0.]],\n",
              "\n",
              "        [[0.],\n",
              "         [0.],\n",
              "         [0.],\n",
              "         ...,\n",
              "         [0.],\n",
              "         [0.],\n",
              "         [0.]],\n",
              "\n",
              "        [[0.],\n",
              "         [0.],\n",
              "         [0.],\n",
              "         ...,\n",
              "         [0.],\n",
              "         [0.],\n",
              "         [0.]],\n",
              "\n",
              "        ...,\n",
              "\n",
              "        [[0.],\n",
              "         [0.],\n",
              "         [0.],\n",
              "         ...,\n",
              "         [0.],\n",
              "         [0.],\n",
              "         [0.]],\n",
              "\n",
              "        [[0.],\n",
              "         [0.],\n",
              "         [0.],\n",
              "         ...,\n",
              "         [0.],\n",
              "         [0.],\n",
              "         [0.]],\n",
              "\n",
              "        [[0.],\n",
              "         [0.],\n",
              "         [0.],\n",
              "         ...,\n",
              "         [0.],\n",
              "         [0.],\n",
              "         [0.]]],\n",
              "\n",
              "\n",
              "       [[[0.],\n",
              "         [0.],\n",
              "         [0.],\n",
              "         ...,\n",
              "         [0.],\n",
              "         [0.],\n",
              "         [0.]],\n",
              "\n",
              "        [[0.],\n",
              "         [0.],\n",
              "         [0.],\n",
              "         ...,\n",
              "         [0.],\n",
              "         [0.],\n",
              "         [0.]],\n",
              "\n",
              "        [[0.],\n",
              "         [0.],\n",
              "         [0.],\n",
              "         ...,\n",
              "         [0.],\n",
              "         [0.],\n",
              "         [0.]],\n",
              "\n",
              "        ...,\n",
              "\n",
              "        [[0.],\n",
              "         [0.],\n",
              "         [0.],\n",
              "         ...,\n",
              "         [0.],\n",
              "         [0.],\n",
              "         [0.]],\n",
              "\n",
              "        [[0.],\n",
              "         [0.],\n",
              "         [0.],\n",
              "         ...,\n",
              "         [0.],\n",
              "         [0.],\n",
              "         [0.]],\n",
              "\n",
              "        [[0.],\n",
              "         [0.],\n",
              "         [0.],\n",
              "         ...,\n",
              "         [0.],\n",
              "         [0.],\n",
              "         [0.]]],\n",
              "\n",
              "\n",
              "       ...,\n",
              "\n",
              "\n",
              "       [[[0.],\n",
              "         [0.],\n",
              "         [0.],\n",
              "         ...,\n",
              "         [0.],\n",
              "         [0.],\n",
              "         [0.]],\n",
              "\n",
              "        [[0.],\n",
              "         [0.],\n",
              "         [0.],\n",
              "         ...,\n",
              "         [0.],\n",
              "         [0.],\n",
              "         [0.]],\n",
              "\n",
              "        [[0.],\n",
              "         [0.],\n",
              "         [0.],\n",
              "         ...,\n",
              "         [0.],\n",
              "         [0.],\n",
              "         [0.]],\n",
              "\n",
              "        ...,\n",
              "\n",
              "        [[0.],\n",
              "         [0.],\n",
              "         [0.],\n",
              "         ...,\n",
              "         [0.],\n",
              "         [0.],\n",
              "         [0.]],\n",
              "\n",
              "        [[0.],\n",
              "         [0.],\n",
              "         [0.],\n",
              "         ...,\n",
              "         [0.],\n",
              "         [0.],\n",
              "         [0.]],\n",
              "\n",
              "        [[0.],\n",
              "         [0.],\n",
              "         [0.],\n",
              "         ...,\n",
              "         [0.],\n",
              "         [0.],\n",
              "         [0.]]],\n",
              "\n",
              "\n",
              "       [[[0.],\n",
              "         [0.],\n",
              "         [0.],\n",
              "         ...,\n",
              "         [0.],\n",
              "         [0.],\n",
              "         [0.]],\n",
              "\n",
              "        [[0.],\n",
              "         [0.],\n",
              "         [0.],\n",
              "         ...,\n",
              "         [0.],\n",
              "         [0.],\n",
              "         [0.]],\n",
              "\n",
              "        [[0.],\n",
              "         [0.],\n",
              "         [0.],\n",
              "         ...,\n",
              "         [0.],\n",
              "         [0.],\n",
              "         [0.]],\n",
              "\n",
              "        ...,\n",
              "\n",
              "        [[0.],\n",
              "         [0.],\n",
              "         [0.],\n",
              "         ...,\n",
              "         [0.],\n",
              "         [0.],\n",
              "         [0.]],\n",
              "\n",
              "        [[0.],\n",
              "         [0.],\n",
              "         [0.],\n",
              "         ...,\n",
              "         [0.],\n",
              "         [0.],\n",
              "         [0.]],\n",
              "\n",
              "        [[0.],\n",
              "         [0.],\n",
              "         [0.],\n",
              "         ...,\n",
              "         [0.],\n",
              "         [0.],\n",
              "         [0.]]],\n",
              "\n",
              "\n",
              "       [[[0.],\n",
              "         [0.],\n",
              "         [0.],\n",
              "         ...,\n",
              "         [0.],\n",
              "         [0.],\n",
              "         [0.]],\n",
              "\n",
              "        [[0.],\n",
              "         [0.],\n",
              "         [0.],\n",
              "         ...,\n",
              "         [0.],\n",
              "         [0.],\n",
              "         [0.]],\n",
              "\n",
              "        [[0.],\n",
              "         [0.],\n",
              "         [0.],\n",
              "         ...,\n",
              "         [0.],\n",
              "         [0.],\n",
              "         [0.]],\n",
              "\n",
              "        ...,\n",
              "\n",
              "        [[0.],\n",
              "         [0.],\n",
              "         [0.],\n",
              "         ...,\n",
              "         [0.],\n",
              "         [0.],\n",
              "         [0.]],\n",
              "\n",
              "        [[0.],\n",
              "         [0.],\n",
              "         [0.],\n",
              "         ...,\n",
              "         [0.],\n",
              "         [0.],\n",
              "         [0.]],\n",
              "\n",
              "        [[0.],\n",
              "         [0.],\n",
              "         [0.],\n",
              "         ...,\n",
              "         [0.],\n",
              "         [0.],\n",
              "         [0.]]]])"
            ]
          },
          "metadata": {},
          "execution_count": 27
        }
      ]
    },
    {
      "cell_type": "code",
      "source": [
        "y_test"
      ],
      "metadata": {
        "colab": {
          "base_uri": "https://localhost:8080/"
        },
        "id": "EQSrSpq2K_pm",
        "outputId": "fea2f5ac-6e7b-49a0-b9e8-f711daccb7b6"
      },
      "execution_count": 30,
      "outputs": [
        {
          "output_type": "execute_result",
          "data": {
            "text/plain": [
              "array([9, 2, 1, ..., 8, 1, 5], dtype=uint8)"
            ]
          },
          "metadata": {},
          "execution_count": 30
        }
      ]
    },
    {
      "cell_type": "code",
      "source": [
        "X_test"
      ],
      "metadata": {
        "id": "vBEKPnFJMw2F"
      },
      "execution_count": null,
      "outputs": []
    },
    {
      "cell_type": "code",
      "source": [
        "print(plt.imshow(X_test[5].reshape(28,28)))"
      ],
      "metadata": {
        "colab": {
          "base_uri": "https://localhost:8080/",
          "height": 283
        },
        "id": "kI-pAlHwLIc3",
        "outputId": "f00637b0-d24d-408a-90eb-e73429dcadfa"
      },
      "execution_count": 35,
      "outputs": [
        {
          "output_type": "stream",
          "name": "stdout",
          "text": [
            "AxesImage(54,36;334.8x217.44)\n"
          ]
        },
        {
          "output_type": "display_data",
          "data": {
            "image/png": "[encoded data removed]",
            "text/plain": [
              "<Figure size 432x288 with 1 Axes>"
            ]
          },
          "metadata": {
            "needs_background": "light"
          }
        }
      ]
    }
  ]
}